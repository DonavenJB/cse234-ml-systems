{
  "cells": [
    {
      "cell_type": "markdown",
      "metadata": {},
      "source": [
        "# Scratch Notebook\n",
        "Use this space for local experiments.\n"
      ]
    },
    {
      "cell_type": "code",
      "execution_count": null,
      "metadata": {},
      "outputs": [],
      "source": [
        "import sys, numpy as np\n",
        "print('Python:', sys.version)\n",
        "print('NumPy:', np.__version__)\n"
      ]
    }
  ],
  "metadata": {
    "kernelspec": {
      "display_name": "Python (cse234 venv)",
      "language": "python",
      "name": "cse234"
    },
    "language_info": {
      "name": "python"
    }
  },
  "nbformat": 4,
  "nbformat_minor": 5
}